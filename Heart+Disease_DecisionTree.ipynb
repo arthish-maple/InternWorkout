{
  "cells": [
    {
      "cell_type": "code",
      "execution_count": null,
      "metadata": {
        "id": "RU5Or2K8OJB4"
      },
      "outputs": [],
      "source": [
        "# Importing the required libraries\n",
        "import pandas as pd, numpy as np\n",
        "import matplotlib.pyplot as plt, seaborn as sns\n"
      ]
    },
    {
      "cell_type": "code",
      "execution_count": null,
      "metadata": {
        "id": "Klbt_96kOJB5"
      },
      "outputs": [],
      "source": [
        "# Reading the csv file and putting it into 'df' object.\n",
        "df = pd.read_csv('heart_v2.csv')"
      ]
    },
    {
      "cell_type": "code",
      "execution_count": null,
      "metadata": {
        "scrolled": true,
        "id": "FYVlm70oOJB5",
        "outputId": "2cb0b617-0734-4524-e73e-e74c3e52ed69"
      },
      "outputs": [
        {
          "data": {
            "text/plain": [
              "Index(['age', 'sex', 'BP', 'cholestrol', 'heart disease'], dtype='object')"
            ]
          },
          "execution_count": 3,
          "metadata": {},
          "output_type": "execute_result"
        }
      ],
      "source": [
        "df.columns"
      ]
    },
    {
      "cell_type": "code",
      "execution_count": null,
      "metadata": {
        "scrolled": true,
        "id": "8wVLnr91OJB5",
        "outputId": "c91100a7-f15d-49dd-82a1-e4d761211dd3"
      },
      "outputs": [
        {
          "data": {
            "text/html": [
              "<div>\n",
              "<style scoped>\n",
              "    .dataframe tbody tr th:only-of-type {\n",
              "        vertical-align: middle;\n",
              "    }\n",
              "\n",
              "    .dataframe tbody tr th {\n",
              "        vertical-align: top;\n",
              "    }\n",
              "\n",
              "    .dataframe thead th {\n",
              "        text-align: right;\n",
              "    }\n",
              "</style>\n",
              "<table border=\"1\" class=\"dataframe\">\n",
              "  <thead>\n",
              "    <tr style=\"text-align: right;\">\n",
              "      <th></th>\n",
              "      <th>age</th>\n",
              "      <th>sex</th>\n",
              "      <th>BP</th>\n",
              "      <th>cholestrol</th>\n",
              "      <th>heart disease</th>\n",
              "    </tr>\n",
              "  </thead>\n",
              "  <tbody>\n",
              "    <tr>\n",
              "      <td>0</td>\n",
              "      <td>70</td>\n",
              "      <td>1</td>\n",
              "      <td>130</td>\n",
              "      <td>322</td>\n",
              "      <td>1</td>\n",
              "    </tr>\n",
              "    <tr>\n",
              "      <td>1</td>\n",
              "      <td>67</td>\n",
              "      <td>0</td>\n",
              "      <td>115</td>\n",
              "      <td>564</td>\n",
              "      <td>0</td>\n",
              "    </tr>\n",
              "    <tr>\n",
              "      <td>2</td>\n",
              "      <td>57</td>\n",
              "      <td>1</td>\n",
              "      <td>124</td>\n",
              "      <td>261</td>\n",
              "      <td>1</td>\n",
              "    </tr>\n",
              "    <tr>\n",
              "      <td>3</td>\n",
              "      <td>64</td>\n",
              "      <td>1</td>\n",
              "      <td>128</td>\n",
              "      <td>263</td>\n",
              "      <td>0</td>\n",
              "    </tr>\n",
              "    <tr>\n",
              "      <td>4</td>\n",
              "      <td>74</td>\n",
              "      <td>0</td>\n",
              "      <td>120</td>\n",
              "      <td>269</td>\n",
              "      <td>0</td>\n",
              "    </tr>\n",
              "  </tbody>\n",
              "</table>\n",
              "</div>"
            ],
            "text/plain": [
              "   age  sex   BP  cholestrol  heart disease\n",
              "0   70    1  130         322              1\n",
              "1   67    0  115         564              0\n",
              "2   57    1  124         261              1\n",
              "3   64    1  128         263              0\n",
              "4   74    0  120         269              0"
            ]
          },
          "execution_count": 4,
          "metadata": {},
          "output_type": "execute_result"
        }
      ],
      "source": [
        "df.head()"
      ]
    },
    {
      "cell_type": "code",
      "execution_count": null,
      "metadata": {
        "id": "maWD3UB2OJB6"
      },
      "outputs": [],
      "source": [
        "# Putting feature variable to X\n",
        "X = df.drop('heart disease',axis=1)\n",
        "\n",
        "# Putting response variable to y\n",
        "y = df['heart disease']"
      ]
    },
    {
      "cell_type": "code",
      "execution_count": null,
      "metadata": {
        "id": "MLwpIrAOOJB6"
      },
      "outputs": [],
      "source": [
        "from sklearn.model_selection import train_test_split"
      ]
    },
    {
      "cell_type": "code",
      "execution_count": null,
      "metadata": {
        "id": "PCsiz5nlOJB6",
        "outputId": "a373f527-f112-4064-9c5a-0c65b71e3310"
      },
      "outputs": [
        {
          "data": {
            "text/plain": [
              "((189, 4), (81, 4))"
            ]
          },
          "execution_count": 7,
          "metadata": {},
          "output_type": "execute_result"
        }
      ],
      "source": [
        "X_train, X_test, y_train, y_test = train_test_split(X, y, train_size=0.7, random_state=42)\n",
        "X_train.shape, X_test.shape"
      ]
    },
    {
      "cell_type": "markdown",
      "metadata": {
        "id": "fnAkyvXNOJB7"
      },
      "source": [
        "Fitting the decision tree with default hyperparameters, apart from max_depth which is 3 so that we can plot and read the tree."
      ]
    },
    {
      "cell_type": "code",
      "execution_count": null,
      "metadata": {
        "id": "PTHGrOwXOJB7"
      },
      "outputs": [],
      "source": [
        "from sklearn.tree import DecisionTreeClassifier"
      ]
    },
    {
      "cell_type": "code",
      "execution_count": null,
      "metadata": {
        "id": "eSvMZZQrOJB8",
        "outputId": "98bd5782-ae5f-40fb-b295-729d1e3315fc"
      },
      "outputs": [
        {
          "data": {
            "text/plain": [
              "DecisionTreeClassifier(ccp_alpha=0.0, class_weight=None, criterion='gini',\n",
              "                       max_depth=3, max_features=None, max_leaf_nodes=None,\n",
              "                       min_impurity_decrease=0.0, min_impurity_split=None,\n",
              "                       min_samples_leaf=1, min_samples_split=2,\n",
              "                       min_weight_fraction_leaf=0.0, presort='deprecated',\n",
              "                       random_state=None, splitter='best')"
            ]
          },
          "execution_count": 9,
          "metadata": {},
          "output_type": "execute_result"
        }
      ],
      "source": [
        "dt = DecisionTreeClassifier(max_depth=3)\n",
        "dt.fit(X_train, y_train)"
      ]
    },
    {
      "cell_type": "code",
      "execution_count": null,
      "metadata": {
        "id": "rveBRmNJOJB9"
      },
      "outputs": [],
      "source": [
        "# print(dot_data.getvalue())"
      ]
    },
    {
      "cell_type": "markdown",
      "metadata": {
        "id": "ltXChCWVOJB9"
      },
      "source": [
        "#### Evaluating model performance"
      ]
    },
    {
      "cell_type": "code",
      "execution_count": null,
      "metadata": {
        "id": "Ihm_UAG6OJB9"
      },
      "outputs": [],
      "source": [
        "y_train_pred = dt.predict(X_train)\n",
        "y_test_pred = dt.predict(X_test)"
      ]
    },
    {
      "cell_type": "code",
      "execution_count": null,
      "metadata": {
        "id": "mhh5eXpjOJB9"
      },
      "outputs": [],
      "source": [
        "from sklearn.metrics import confusion_matrix, accuracy_score"
      ]
    },
    {
      "cell_type": "code",
      "execution_count": null,
      "metadata": {
        "id": "Bkye8l4cOJB9",
        "outputId": "23fefb53-a06f-4522-c69d-8827e52d8cdc"
      },
      "outputs": [
        {
          "name": "stdout",
          "output_type": "stream",
          "text": [
            "0.7407407407407407\n"
          ]
        },
        {
          "data": {
            "text/plain": [
              "array([[82, 19],\n",
              "       [30, 58]], dtype=int64)"
            ]
          },
          "execution_count": 18,
          "metadata": {},
          "output_type": "execute_result"
        }
      ],
      "source": [
        "print(accuracy_score(y_train, y_train_pred))\n",
        "confusion_matrix(y_train, y_train_pred)"
      ]
    },
    {
      "cell_type": "code",
      "execution_count": null,
      "metadata": {
        "id": "wpK8efLeOJB9",
        "outputId": "d78c2198-f35c-42eb-e00f-812cdd198592"
      },
      "outputs": [
        {
          "name": "stdout",
          "output_type": "stream",
          "text": [
            "0.6049382716049383\n"
          ]
        },
        {
          "data": {
            "text/plain": [
              "array([[35, 14],\n",
              "       [18, 14]], dtype=int64)"
            ]
          },
          "execution_count": 19,
          "metadata": {},
          "output_type": "execute_result"
        }
      ],
      "source": [
        "print(accuracy_score(y_test, y_test_pred))\n",
        "confusion_matrix(y_test, y_test_pred)"
      ]
    },
    {
      "cell_type": "markdown",
      "metadata": {
        "id": "SWMW4fRqOJB-"
      },
      "source": [
        "Creating helper functions to evaluate model performance and help plot the decision tree"
      ]
    },
    {
      "cell_type": "code",
      "execution_count": null,
      "metadata": {
        "id": "u4ds_3hLOJB-"
      },
      "outputs": [],
      "source": [
        "def evaluate_model(dt_classifier):\n",
        "    print(\"Train Accuracy :\", accuracy_score(y_train, dt_classifier.predict(X_train)))\n",
        "    print(\"Train Confusion Matrix:\")\n",
        "    print(confusion_matrix(y_train, dt_classifier.predict(X_train)))\n",
        "    print(\"-\"*50)\n",
        "    print(\"Test Accuracy :\", accuracy_score(y_test, dt_classifier.predict(X_test)))\n",
        "    print(\"Test Confusion Matrix:\")\n",
        "    print(confusion_matrix(y_test, dt_classifier.predict(X_test)))"
      ]
    },
    {
      "cell_type": "markdown",
      "metadata": {
        "id": "f7l3Cm4EOJB-"
      },
      "source": [
        "### Without setting any hyper-parameters"
      ]
    },
    {
      "cell_type": "code",
      "execution_count": null,
      "metadata": {
        "id": "b3w5X8_7OJB-",
        "outputId": "d64f0934-74a4-4256-fa77-8bf0041f45cf"
      },
      "outputs": [
        {
          "data": {
            "text/plain": [
              "DecisionTreeClassifier(ccp_alpha=0.0, class_weight=None, criterion='gini',\n",
              "                       max_depth=None, max_features=None, max_leaf_nodes=None,\n",
              "                       min_impurity_decrease=0.0, min_impurity_split=None,\n",
              "                       min_samples_leaf=1, min_samples_split=2,\n",
              "                       min_weight_fraction_leaf=0.0, presort='deprecated',\n",
              "                       random_state=42, splitter='best')"
            ]
          },
          "execution_count": 22,
          "metadata": {},
          "output_type": "execute_result"
        }
      ],
      "source": [
        "dt_default = DecisionTreeClassifier(random_state=42)\n",
        "dt_default.fit(X_train, y_train)"
      ]
    },
    {
      "cell_type": "code",
      "execution_count": null,
      "metadata": {
        "id": "saKzRl1TOJB-",
        "outputId": "870dbcd2-1546-40b4-9040-71b5e1ea8973"
      },
      "outputs": [
        {
          "name": "stdout",
          "output_type": "stream",
          "text": [
            "Train Accuracy : 1.0\n",
            "Train Confusion Matrix:\n",
            "[[101   0]\n",
            " [  0  88]]\n",
            "--------------------------------------------------\n",
            "Test Accuracy : 0.6296296296296297\n",
            "Test Confusion Matrix:\n",
            "[[31 18]\n",
            " [12 20]]\n"
          ]
        }
      ],
      "source": [
        "evaluate_model(dt_default)"
      ]
    },
    {
      "cell_type": "markdown",
      "metadata": {
        "id": "hv6vSCFsOJB-"
      },
      "source": [
        "### Controlling the depth of the tree"
      ]
    },
    {
      "cell_type": "code",
      "execution_count": null,
      "metadata": {
        "id": "JbQZVJLdOJB_"
      },
      "outputs": [],
      "source": [
        "?DecisionTreeClassifier"
      ]
    },
    {
      "cell_type": "code",
      "execution_count": null,
      "metadata": {
        "id": "lakHVaqwOJB_",
        "outputId": "999cea06-83e9-4433-b590-8c9879a792db"
      },
      "outputs": [
        {
          "data": {
            "text/plain": [
              "DecisionTreeClassifier(ccp_alpha=0.0, class_weight=None, criterion='gini',\n",
              "                       max_depth=3, max_features=None, max_leaf_nodes=None,\n",
              "                       min_impurity_decrease=0.0, min_impurity_split=None,\n",
              "                       min_samples_leaf=1, min_samples_split=2,\n",
              "                       min_weight_fraction_leaf=0.0, presort='deprecated',\n",
              "                       random_state=None, splitter='best')"
            ]
          },
          "execution_count": 26,
          "metadata": {},
          "output_type": "execute_result"
        }
      ],
      "source": [
        "dt_depth = DecisionTreeClassifier(max_depth=3)\n",
        "dt_depth.fit(X_train, y_train)"
      ]
    },
    {
      "cell_type": "code",
      "execution_count": null,
      "metadata": {
        "id": "qC75ukTWOJB_",
        "outputId": "4931276b-8d83-4960-ebbe-e72fe649747c"
      },
      "outputs": [
        {
          "name": "stdout",
          "output_type": "stream",
          "text": [
            "Train Accuracy : 0.7407407407407407\n",
            "Train Confusion Matrix:\n",
            "[[82 19]\n",
            " [30 58]]\n",
            "--------------------------------------------------\n",
            "Test Accuracy : 0.6049382716049383\n",
            "Test Confusion Matrix:\n",
            "[[35 14]\n",
            " [18 14]]\n"
          ]
        }
      ],
      "source": [
        "evaluate_model(dt_depth)"
      ]
    },
    {
      "cell_type": "markdown",
      "metadata": {
        "id": "Qggqofa3OJB_"
      },
      "source": [
        "### Specifying minimum samples before split"
      ]
    },
    {
      "cell_type": "code",
      "execution_count": null,
      "metadata": {
        "id": "WUCwjXamOJB_",
        "outputId": "50230cf3-c12e-4076-a360-a71461b2c100"
      },
      "outputs": [
        {
          "data": {
            "text/plain": [
              "DecisionTreeClassifier(ccp_alpha=0.0, class_weight=None, criterion='gini',\n",
              "                       max_depth=None, max_features=None, max_leaf_nodes=None,\n",
              "                       min_impurity_decrease=0.0, min_impurity_split=None,\n",
              "                       min_samples_leaf=1, min_samples_split=20,\n",
              "                       min_weight_fraction_leaf=0.0, presort='deprecated',\n",
              "                       random_state=None, splitter='best')"
            ]
          },
          "execution_count": 29,
          "metadata": {},
          "output_type": "execute_result"
        }
      ],
      "source": [
        "dt_min_split = DecisionTreeClassifier(min_samples_split=20)\n",
        "dt_min_split.fit(X_train, y_train)"
      ]
    },
    {
      "cell_type": "code",
      "execution_count": null,
      "metadata": {
        "id": "oD_FbmjUOJCA",
        "outputId": "4f52322b-caa2-4a9e-a6c8-224605a9c999"
      },
      "outputs": [
        {
          "name": "stdout",
          "output_type": "stream",
          "text": [
            "Train Accuracy : 0.8359788359788359\n",
            "Train Confusion Matrix:\n",
            "[[85 16]\n",
            " [15 73]]\n",
            "--------------------------------------------------\n",
            "Test Accuracy : 0.6419753086419753\n",
            "Test Confusion Matrix:\n",
            "[[32 17]\n",
            " [12 20]]\n"
          ]
        }
      ],
      "source": [
        "evaluate_model(dt_min_split)"
      ]
    },
    {
      "cell_type": "markdown",
      "metadata": {
        "id": "GlQROglSOJCA"
      },
      "source": [
        "### Specifying minimum samples in leaf node"
      ]
    },
    {
      "cell_type": "code",
      "execution_count": null,
      "metadata": {
        "id": "lN3BnSdSOJCA",
        "outputId": "1d5cfa49-bef0-4023-d51e-5c5550b15dd7"
      },
      "outputs": [
        {
          "data": {
            "text/plain": [
              "DecisionTreeClassifier(ccp_alpha=0.0, class_weight=None, criterion='gini',\n",
              "                       max_depth=None, max_features=None, max_leaf_nodes=None,\n",
              "                       min_impurity_decrease=0.0, min_impurity_split=None,\n",
              "                       min_samples_leaf=20, min_samples_split=2,\n",
              "                       min_weight_fraction_leaf=0.0, presort='deprecated',\n",
              "                       random_state=42, splitter='best')"
            ]
          },
          "execution_count": 32,
          "metadata": {},
          "output_type": "execute_result"
        }
      ],
      "source": [
        "dt_min_leaf = DecisionTreeClassifier(min_samples_leaf=20, random_state=42)\n",
        "dt_min_leaf.fit(X_train, y_train)"
      ]
    },
    {
      "cell_type": "code",
      "execution_count": null,
      "metadata": {
        "id": "aDh3T_IZOJCA",
        "outputId": "88dc7eb4-83b4-4e5b-bf5f-028c9dfc6dff"
      },
      "outputs": [
        {
          "name": "stdout",
          "output_type": "stream",
          "text": [
            "Train Accuracy : 0.7037037037037037\n",
            "Train Confusion Matrix:\n",
            "[[85 16]\n",
            " [40 48]]\n",
            "--------------------------------------------------\n",
            "Test Accuracy : 0.6419753086419753\n",
            "Test Confusion Matrix:\n",
            "[[38 11]\n",
            " [18 14]]\n"
          ]
        }
      ],
      "source": [
        "evaluate_model(dt_min_leaf)"
      ]
    },
    {
      "cell_type": "markdown",
      "metadata": {
        "id": "Sp9krDxHOJCB"
      },
      "source": [
        "### Using Entropy instead of Gini"
      ]
    },
    {
      "cell_type": "code",
      "execution_count": null,
      "metadata": {
        "id": "Q8uNaV6fOJCB",
        "outputId": "5b625f68-9b65-4604-d49f-b913358c6106"
      },
      "outputs": [
        {
          "data": {
            "text/plain": [
              "DecisionTreeClassifier(ccp_alpha=0.0, class_weight=None, criterion='entropy',\n",
              "                       max_depth=None, max_features=None, max_leaf_nodes=None,\n",
              "                       min_impurity_decrease=0.0, min_impurity_split=None,\n",
              "                       min_samples_leaf=20, min_samples_split=2,\n",
              "                       min_weight_fraction_leaf=0.0, presort='deprecated',\n",
              "                       random_state=42, splitter='best')"
            ]
          },
          "execution_count": 35,
          "metadata": {},
          "output_type": "execute_result"
        }
      ],
      "source": [
        "dt_min_leaf_entropy = DecisionTreeClassifier(min_samples_leaf=20, random_state=42, criterion=\"entropy\")\n",
        "dt_min_leaf_entropy.fit(X_train, y_train)"
      ]
    },
    {
      "cell_type": "code",
      "execution_count": null,
      "metadata": {
        "id": "J_PlKMj7OJCB",
        "outputId": "325590f4-7dd4-4c2c-ecf0-0e06758a3ab6"
      },
      "outputs": [
        {
          "name": "stdout",
          "output_type": "stream",
          "text": [
            "Train Accuracy : 0.7037037037037037\n",
            "Train Confusion Matrix:\n",
            "[[85 16]\n",
            " [40 48]]\n",
            "--------------------------------------------------\n",
            "Test Accuracy : 0.6419753086419753\n",
            "Test Confusion Matrix:\n",
            "[[38 11]\n",
            " [18 14]]\n"
          ]
        }
      ],
      "source": [
        "evaluate_model(dt_min_leaf_entropy)"
      ]
    },
    {
      "cell_type": "markdown",
      "metadata": {
        "id": "bsFb6cV2OJCB"
      },
      "source": [
        "### Hyper-parameter tuning"
      ]
    },
    {
      "cell_type": "code",
      "execution_count": null,
      "metadata": {
        "id": "4dcKeoS5OJCB"
      },
      "outputs": [],
      "source": [
        "dt = DecisionTreeClassifier(random_state=42)"
      ]
    },
    {
      "cell_type": "code",
      "execution_count": null,
      "metadata": {
        "id": "1V8EmX-KOJCB"
      },
      "outputs": [],
      "source": [
        "from sklearn.model_selection import GridSearchCV"
      ]
    },
    {
      "cell_type": "code",
      "execution_count": null,
      "metadata": {
        "id": "eHp71GCHOJCB"
      },
      "outputs": [],
      "source": [
        "# Create the parameter grid based on the results of random search\n",
        "params = {\n",
        "    'max_depth': [2, 3, 5, 10, 20],\n",
        "    'min_samples_leaf': [5, 10, 20, 50, 100],\n",
        "    'criterion': [\"gini\", \"entropy\"]\n",
        "}"
      ]
    },
    {
      "cell_type": "code",
      "execution_count": null,
      "metadata": {
        "id": "RDxRm3_1OJCC"
      },
      "outputs": [],
      "source": [
        "# Instantiate the grid search model\n",
        "grid_search = GridSearchCV(estimator=dt,\n",
        "                           param_grid=params,\n",
        "                           cv=4, n_jobs=-1, verbose=1, scoring = \"accuracy\")"
      ]
    },
    {
      "cell_type": "code",
      "source": [
        "grid_search.fit(X_train, y_train)\n",
        "#Fitting 4 folds for each of 50 candidates, totalling 200 fits"
      ],
      "metadata": {
        "id": "nL_xpU7KPUUZ"
      },
      "execution_count": null,
      "outputs": []
    },
    {
      "cell_type": "code",
      "execution_count": null,
      "metadata": {
        "id": "zk9A51wLOJCC",
        "outputId": "dd467d7a-ced2-4fe5-d5fc-4966be3c6af1"
      },
      "outputs": [
        {
          "data": {
            "text/html": [
              "<div>\n",
              "<style scoped>\n",
              "    .dataframe tbody tr th:only-of-type {\n",
              "        vertical-align: middle;\n",
              "    }\n",
              "\n",
              "    .dataframe tbody tr th {\n",
              "        vertical-align: top;\n",
              "    }\n",
              "\n",
              "    .dataframe thead th {\n",
              "        text-align: right;\n",
              "    }\n",
              "</style>\n",
              "<table border=\"1\" class=\"dataframe\">\n",
              "  <thead>\n",
              "    <tr style=\"text-align: right;\">\n",
              "      <th></th>\n",
              "      <th>mean_fit_time</th>\n",
              "      <th>std_fit_time</th>\n",
              "      <th>mean_score_time</th>\n",
              "      <th>std_score_time</th>\n",
              "      <th>param_criterion</th>\n",
              "      <th>param_max_depth</th>\n",
              "      <th>param_min_samples_leaf</th>\n",
              "      <th>params</th>\n",
              "      <th>split0_test_score</th>\n",
              "      <th>split1_test_score</th>\n",
              "      <th>split2_test_score</th>\n",
              "      <th>split3_test_score</th>\n",
              "      <th>mean_test_score</th>\n",
              "      <th>std_test_score</th>\n",
              "      <th>rank_test_score</th>\n",
              "    </tr>\n",
              "  </thead>\n",
              "  <tbody>\n",
              "    <tr>\n",
              "      <td>0</td>\n",
              "      <td>0.005984</td>\n",
              "      <td>0.000001</td>\n",
              "      <td>0.003742</td>\n",
              "      <td>0.000830</td>\n",
              "      <td>gini</td>\n",
              "      <td>2</td>\n",
              "      <td>5</td>\n",
              "      <td>{'criterion': 'gini', 'max_depth': 2, 'min_sam...</td>\n",
              "      <td>0.708333</td>\n",
              "      <td>0.744681</td>\n",
              "      <td>0.617021</td>\n",
              "      <td>0.531915</td>\n",
              "      <td>0.650488</td>\n",
              "      <td>0.082762</td>\n",
              "      <td>17</td>\n",
              "    </tr>\n",
              "    <tr>\n",
              "      <td>1</td>\n",
              "      <td>0.005735</td>\n",
              "      <td>0.000827</td>\n",
              "      <td>0.003241</td>\n",
              "      <td>0.000432</td>\n",
              "      <td>gini</td>\n",
              "      <td>2</td>\n",
              "      <td>10</td>\n",
              "      <td>{'criterion': 'gini', 'max_depth': 2, 'min_sam...</td>\n",
              "      <td>0.708333</td>\n",
              "      <td>0.744681</td>\n",
              "      <td>0.617021</td>\n",
              "      <td>0.531915</td>\n",
              "      <td>0.650488</td>\n",
              "      <td>0.082762</td>\n",
              "      <td>17</td>\n",
              "    </tr>\n",
              "    <tr>\n",
              "      <td>2</td>\n",
              "      <td>0.016208</td>\n",
              "      <td>0.012721</td>\n",
              "      <td>0.002243</td>\n",
              "      <td>0.000431</td>\n",
              "      <td>gini</td>\n",
              "      <td>2</td>\n",
              "      <td>20</td>\n",
              "      <td>{'criterion': 'gini', 'max_depth': 2, 'min_sam...</td>\n",
              "      <td>0.687500</td>\n",
              "      <td>0.744681</td>\n",
              "      <td>0.617021</td>\n",
              "      <td>0.531915</td>\n",
              "      <td>0.645279</td>\n",
              "      <td>0.079551</td>\n",
              "      <td>20</td>\n",
              "    </tr>\n",
              "    <tr>\n",
              "      <td>3</td>\n",
              "      <td>0.019198</td>\n",
              "      <td>0.016975</td>\n",
              "      <td>0.002493</td>\n",
              "      <td>0.000498</td>\n",
              "      <td>gini</td>\n",
              "      <td>2</td>\n",
              "      <td>50</td>\n",
              "      <td>{'criterion': 'gini', 'max_depth': 2, 'min_sam...</td>\n",
              "      <td>0.666667</td>\n",
              "      <td>0.680851</td>\n",
              "      <td>0.574468</td>\n",
              "      <td>0.702128</td>\n",
              "      <td>0.656028</td>\n",
              "      <td>0.048751</td>\n",
              "      <td>3</td>\n",
              "    </tr>\n",
              "    <tr>\n",
              "      <td>4</td>\n",
              "      <td>0.005236</td>\n",
              "      <td>0.002159</td>\n",
              "      <td>0.008477</td>\n",
              "      <td>0.011811</td>\n",
              "      <td>gini</td>\n",
              "      <td>2</td>\n",
              "      <td>100</td>\n",
              "      <td>{'criterion': 'gini', 'max_depth': 2, 'min_sam...</td>\n",
              "      <td>0.541667</td>\n",
              "      <td>0.531915</td>\n",
              "      <td>0.531915</td>\n",
              "      <td>0.531915</td>\n",
              "      <td>0.534353</td>\n",
              "      <td>0.004223</td>\n",
              "      <td>41</td>\n",
              "    </tr>\n",
              "  </tbody>\n",
              "</table>\n",
              "</div>"
            ],
            "text/plain": [
              "   mean_fit_time  std_fit_time  mean_score_time  std_score_time  \\\n",
              "0       0.005984      0.000001         0.003742        0.000830   \n",
              "1       0.005735      0.000827         0.003241        0.000432   \n",
              "2       0.016208      0.012721         0.002243        0.000431   \n",
              "3       0.019198      0.016975         0.002493        0.000498   \n",
              "4       0.005236      0.002159         0.008477        0.011811   \n",
              "\n",
              "  param_criterion param_max_depth param_min_samples_leaf  \\\n",
              "0            gini               2                      5   \n",
              "1            gini               2                     10   \n",
              "2            gini               2                     20   \n",
              "3            gini               2                     50   \n",
              "4            gini               2                    100   \n",
              "\n",
              "                                              params  split0_test_score  \\\n",
              "0  {'criterion': 'gini', 'max_depth': 2, 'min_sam...           0.708333   \n",
              "1  {'criterion': 'gini', 'max_depth': 2, 'min_sam...           0.708333   \n",
              "2  {'criterion': 'gini', 'max_depth': 2, 'min_sam...           0.687500   \n",
              "3  {'criterion': 'gini', 'max_depth': 2, 'min_sam...           0.666667   \n",
              "4  {'criterion': 'gini', 'max_depth': 2, 'min_sam...           0.541667   \n",
              "\n",
              "   split1_test_score  split2_test_score  split3_test_score  mean_test_score  \\\n",
              "0           0.744681           0.617021           0.531915         0.650488   \n",
              "1           0.744681           0.617021           0.531915         0.650488   \n",
              "2           0.744681           0.617021           0.531915         0.645279   \n",
              "3           0.680851           0.574468           0.702128         0.656028   \n",
              "4           0.531915           0.531915           0.531915         0.534353   \n",
              "\n",
              "   std_test_score  rank_test_score  \n",
              "0        0.082762               17  \n",
              "1        0.082762               17  \n",
              "2        0.079551               20  \n",
              "3        0.048751                3  \n",
              "4        0.004223               41  "
            ]
          },
          "execution_count": 44,
          "metadata": {},
          "output_type": "execute_result"
        }
      ],
      "source": [
        "score_df = pd.DataFrame(grid_search.cv_results_)\n",
        "score_df.head()"
      ]
    },
    {
      "cell_type": "code",
      "execution_count": null,
      "metadata": {
        "id": "Yot66FpWOJCC",
        "outputId": "e17ba144-15e1-4b8c-e98d-c68b029a35ed"
      },
      "outputs": [
        {
          "data": {
            "text/html": [
              "<div>\n",
              "<style scoped>\n",
              "    .dataframe tbody tr th:only-of-type {\n",
              "        vertical-align: middle;\n",
              "    }\n",
              "\n",
              "    .dataframe tbody tr th {\n",
              "        vertical-align: top;\n",
              "    }\n",
              "\n",
              "    .dataframe thead th {\n",
              "        text-align: right;\n",
              "    }\n",
              "</style>\n",
              "<table border=\"1\" class=\"dataframe\">\n",
              "  <thead>\n",
              "    <tr style=\"text-align: right;\">\n",
              "      <th></th>\n",
              "      <th>mean_fit_time</th>\n",
              "      <th>std_fit_time</th>\n",
              "      <th>mean_score_time</th>\n",
              "      <th>std_score_time</th>\n",
              "      <th>param_criterion</th>\n",
              "      <th>param_max_depth</th>\n",
              "      <th>param_min_samples_leaf</th>\n",
              "      <th>params</th>\n",
              "      <th>split0_test_score</th>\n",
              "      <th>split1_test_score</th>\n",
              "      <th>split2_test_score</th>\n",
              "      <th>split3_test_score</th>\n",
              "      <th>mean_test_score</th>\n",
              "      <th>std_test_score</th>\n",
              "      <th>rank_test_score</th>\n",
              "    </tr>\n",
              "  </thead>\n",
              "  <tbody>\n",
              "    <tr>\n",
              "      <td>30</td>\n",
              "      <td>0.004484</td>\n",
              "      <td>0.000859</td>\n",
              "      <td>0.001999</td>\n",
              "      <td>0.000006</td>\n",
              "      <td>entropy</td>\n",
              "      <td>3</td>\n",
              "      <td>5</td>\n",
              "      <td>{'criterion': 'entropy', 'max_depth': 3, 'min_...</td>\n",
              "      <td>0.604167</td>\n",
              "      <td>0.765957</td>\n",
              "      <td>0.617021</td>\n",
              "      <td>0.680851</td>\n",
              "      <td>0.666999</td>\n",
              "      <td>0.064090</td>\n",
              "      <td>1</td>\n",
              "    </tr>\n",
              "    <tr>\n",
              "      <td>5</td>\n",
              "      <td>0.010472</td>\n",
              "      <td>0.005486</td>\n",
              "      <td>0.005486</td>\n",
              "      <td>0.003764</td>\n",
              "      <td>gini</td>\n",
              "      <td>3</td>\n",
              "      <td>5</td>\n",
              "      <td>{'criterion': 'gini', 'max_depth': 3, 'min_sam...</td>\n",
              "      <td>0.625000</td>\n",
              "      <td>0.744681</td>\n",
              "      <td>0.595745</td>\n",
              "      <td>0.659574</td>\n",
              "      <td>0.656250</td>\n",
              "      <td>0.055831</td>\n",
              "      <td>2</td>\n",
              "    </tr>\n",
              "    <tr>\n",
              "      <td>3</td>\n",
              "      <td>0.019198</td>\n",
              "      <td>0.016975</td>\n",
              "      <td>0.002493</td>\n",
              "      <td>0.000498</td>\n",
              "      <td>gini</td>\n",
              "      <td>2</td>\n",
              "      <td>50</td>\n",
              "      <td>{'criterion': 'gini', 'max_depth': 2, 'min_sam...</td>\n",
              "      <td>0.666667</td>\n",
              "      <td>0.680851</td>\n",
              "      <td>0.574468</td>\n",
              "      <td>0.702128</td>\n",
              "      <td>0.656028</td>\n",
              "      <td>0.048751</td>\n",
              "      <td>3</td>\n",
              "    </tr>\n",
              "    <tr>\n",
              "      <td>8</td>\n",
              "      <td>0.004488</td>\n",
              "      <td>0.000498</td>\n",
              "      <td>0.001994</td>\n",
              "      <td>0.000001</td>\n",
              "      <td>gini</td>\n",
              "      <td>3</td>\n",
              "      <td>50</td>\n",
              "      <td>{'criterion': 'gini', 'max_depth': 3, 'min_sam...</td>\n",
              "      <td>0.666667</td>\n",
              "      <td>0.680851</td>\n",
              "      <td>0.574468</td>\n",
              "      <td>0.702128</td>\n",
              "      <td>0.656028</td>\n",
              "      <td>0.048751</td>\n",
              "      <td>3</td>\n",
              "    </tr>\n",
              "    <tr>\n",
              "      <td>13</td>\n",
              "      <td>0.004737</td>\n",
              "      <td>0.000432</td>\n",
              "      <td>0.001994</td>\n",
              "      <td>0.000001</td>\n",
              "      <td>gini</td>\n",
              "      <td>5</td>\n",
              "      <td>50</td>\n",
              "      <td>{'criterion': 'gini', 'max_depth': 5, 'min_sam...</td>\n",
              "      <td>0.666667</td>\n",
              "      <td>0.680851</td>\n",
              "      <td>0.574468</td>\n",
              "      <td>0.702128</td>\n",
              "      <td>0.656028</td>\n",
              "      <td>0.048751</td>\n",
              "      <td>3</td>\n",
              "    </tr>\n",
              "  </tbody>\n",
              "</table>\n",
              "</div>"
            ],
            "text/plain": [
              "    mean_fit_time  std_fit_time  mean_score_time  std_score_time  \\\n",
              "30       0.004484      0.000859         0.001999        0.000006   \n",
              "5        0.010472      0.005486         0.005486        0.003764   \n",
              "3        0.019198      0.016975         0.002493        0.000498   \n",
              "8        0.004488      0.000498         0.001994        0.000001   \n",
              "13       0.004737      0.000432         0.001994        0.000001   \n",
              "\n",
              "   param_criterion param_max_depth param_min_samples_leaf  \\\n",
              "30         entropy               3                      5   \n",
              "5             gini               3                      5   \n",
              "3             gini               2                     50   \n",
              "8             gini               3                     50   \n",
              "13            gini               5                     50   \n",
              "\n",
              "                                               params  split0_test_score  \\\n",
              "30  {'criterion': 'entropy', 'max_depth': 3, 'min_...           0.604167   \n",
              "5   {'criterion': 'gini', 'max_depth': 3, 'min_sam...           0.625000   \n",
              "3   {'criterion': 'gini', 'max_depth': 2, 'min_sam...           0.666667   \n",
              "8   {'criterion': 'gini', 'max_depth': 3, 'min_sam...           0.666667   \n",
              "13  {'criterion': 'gini', 'max_depth': 5, 'min_sam...           0.666667   \n",
              "\n",
              "    split1_test_score  split2_test_score  split3_test_score  mean_test_score  \\\n",
              "30           0.765957           0.617021           0.680851         0.666999   \n",
              "5            0.744681           0.595745           0.659574         0.656250   \n",
              "3            0.680851           0.574468           0.702128         0.656028   \n",
              "8            0.680851           0.574468           0.702128         0.656028   \n",
              "13           0.680851           0.574468           0.702128         0.656028   \n",
              "\n",
              "    std_test_score  rank_test_score  \n",
              "30        0.064090                1  \n",
              "5         0.055831                2  \n",
              "3         0.048751                3  \n",
              "8         0.048751                3  \n",
              "13        0.048751                3  "
            ]
          },
          "execution_count": 45,
          "metadata": {},
          "output_type": "execute_result"
        }
      ],
      "source": [
        "score_df.nlargest(5,\"mean_test_score\")"
      ]
    },
    {
      "cell_type": "code",
      "execution_count": null,
      "metadata": {
        "id": "f_RZBl6xOJCC",
        "outputId": "9c33a488-0b53-4a40-8000-7cca9449faf0"
      },
      "outputs": [
        {
          "data": {
            "text/plain": [
              "DecisionTreeClassifier(ccp_alpha=0.0, class_weight=None, criterion='entropy',\n",
              "                       max_depth=3, max_features=None, max_leaf_nodes=None,\n",
              "                       min_impurity_decrease=0.0, min_impurity_split=None,\n",
              "                       min_samples_leaf=5, min_samples_split=2,\n",
              "                       min_weight_fraction_leaf=0.0, presort='deprecated',\n",
              "                       random_state=42, splitter='best')"
            ]
          },
          "execution_count": 46,
          "metadata": {},
          "output_type": "execute_result"
        }
      ],
      "source": [
        "grid_search.best_estimator_"
      ]
    },
    {
      "cell_type": "code",
      "execution_count": null,
      "metadata": {
        "id": "ce5p5QiWOJCC"
      },
      "outputs": [],
      "source": [
        "dt_best = grid_search.best_estimator_"
      ]
    },
    {
      "cell_type": "code",
      "execution_count": null,
      "metadata": {
        "id": "1uKS2ygzOJCC",
        "outputId": "24bfe720-665c-4605-ab8a-9cdd8d12c95e"
      },
      "outputs": [
        {
          "name": "stdout",
          "output_type": "stream",
          "text": [
            "Train Accuracy : 0.7195767195767195\n",
            "Train Confusion Matrix:\n",
            "[[82 19]\n",
            " [34 54]]\n",
            "--------------------------------------------------\n",
            "Test Accuracy : 0.6172839506172839\n",
            "Test Confusion Matrix:\n",
            "[[36 13]\n",
            " [18 14]]\n"
          ]
        }
      ],
      "source": [
        "evaluate_model(dt_best)"
      ]
    },
    {
      "cell_type": "code",
      "execution_count": null,
      "metadata": {
        "id": "gOmG4jUIOJCC"
      },
      "outputs": [],
      "source": [
        "from sklearn.metrics import classification_report"
      ]
    },
    {
      "cell_type": "code",
      "execution_count": null,
      "metadata": {
        "id": "aNeebI77OJCC",
        "outputId": "40fd8d42-6673-42db-ceb2-8106240ff4e0"
      },
      "outputs": [
        {
          "name": "stdout",
          "output_type": "stream",
          "text": [
            "              precision    recall  f1-score   support\n",
            "\n",
            "           0       0.67      0.73      0.70        49\n",
            "           1       0.52      0.44      0.47        32\n",
            "\n",
            "    accuracy                           0.62        81\n",
            "   macro avg       0.59      0.59      0.59        81\n",
            "weighted avg       0.61      0.62      0.61        81\n",
            "\n"
          ]
        }
      ],
      "source": [
        "print(classification_report(y_test, dt_best.predict(X_test)))"
      ]
    }
  ],
  "metadata": {
    "kernelspec": {
      "display_name": "Python 3",
      "language": "python",
      "name": "python3"
    },
    "language_info": {
      "codemirror_mode": {
        "name": "ipython",
        "version": 3
      },
      "file_extension": ".py",
      "mimetype": "text/x-python",
      "name": "python",
      "nbconvert_exporter": "python",
      "pygments_lexer": "ipython3",
      "version": "3.7.4"
    },
    "colab": {
      "provenance": []
    }
  },
  "nbformat": 4,
  "nbformat_minor": 0
}