{
 "cells": [
  {
   "cell_type": "code",
   "execution_count": 1,
   "metadata": {},
   "outputs": [],
   "source": [
    "import requests"
   ]
  },
  {
   "cell_type": "code",
   "execution_count": 48,
   "metadata": {},
   "outputs": [],
   "source": [
    "url = 'http://192.168.1.3:9696/predict'\n",
    "#http://192.168.1.3:9696"
   ]
  },
  {
   "cell_type": "code",
   "execution_count": 133,
   "metadata": {},
   "outputs": [],
   "source": [
    "customer = {\n",
    "    'tenure': 1,\n",
    "    'paperlessbilling': 0,\n",
    "    'monthlycharges': 29.85,\n",
    "    'seniorcitizen': 1,\n",
    "    'partner': 1,\n",
    "    'dependents': 0,\n",
    "    'multiplelines': 0,\n",
    "    'onlinesecurity': 0,\n",
    "    'onlinebackup': 1,\n",
    "    'deviceprotection': 0,\n",
    "    'techsupport': 0,\n",
    "    'streamingmovies': 0,\n",
    "    'Contract_One year' : 1, \n",
    "    'Contract_Two year': 0,\n",
    "    'paymentmethod_electronic': 1,\n",
    "\n",
    "    \n",
    "}"
   ]
  },
  {
   "cell_type": "code",
   "execution_count": 134,
   "metadata": {},
   "outputs": [],
   "source": [
    "response = requests.post(url, json=customer).json()\n"
   ]
  },
  {
   "cell_type": "code",
   "execution_count": 135,
   "metadata": {},
   "outputs": [
    {
     "data": {
      "text/plain": [
       "{'Prediction': 0, 'message': 'The customer will not churn'}"
      ]
     },
     "execution_count": 135,
     "metadata": {},
     "output_type": "execute_result"
    }
   ],
   "source": [
    "response"
   ]
  }
 ],
 "metadata": {
  "kernelspec": {
   "display_name": "base",
   "language": "python",
   "name": "python3"
  },
  "language_info": {
   "codemirror_mode": {
    "name": "ipython",
    "version": 3
   },
   "file_extension": ".py",
   "mimetype": "text/x-python",
   "name": "python",
   "nbconvert_exporter": "python",
   "pygments_lexer": "ipython3",
   "version": "3.12.4"
  }
 },
 "nbformat": 4,
 "nbformat_minor": 2
}
